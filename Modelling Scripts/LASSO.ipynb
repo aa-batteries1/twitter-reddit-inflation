{
 "cells": [
  {
   "cell_type": "code",
   "execution_count": 8,
   "id": "3a47e70e",
   "metadata": {},
   "outputs": [],
   "source": [
    "#https://notes.quantecon.org/submission/5cc8e7dd4174bb001a39a8ff\n",
    "import statsmodels as sm\n",
    "#https://www.statsmodels.org/dev/vector_ar.html\n",
    "import pandas as pd\n",
    "import numpy as np\n",
    "import matplotlib.pyplot as plt\n",
    "%matplotlib inline\n",
    "\n",
    "# Import Statsmodels\n",
    "from statsmodels.tsa.api import VAR\n",
    "from statsmodels.tsa.stattools import adfuller\n",
    "from statsmodels.tools.eval_measures import rmse, aic\n",
    "import numpy as np\n",
    "import matplotlib.pyplot as plt\n",
    "%matplotlib inline \n",
    "import seaborn as sns\n",
    "sns.set()\n",
    "import datetime as dt\n",
    "import warnings\n",
    "warnings.simplefilter('ignore')\n",
    "from sklearn import (linear_model, metrics, neural_network, pipeline, preprocessing, model_selection)"
   ]
  },
  {
   "cell_type": "code",
   "execution_count": 9,
   "id": "bdcfed34",
   "metadata": {},
   "outputs": [
    {
     "data": {
      "text/html": [
       "<div>\n",
       "<style scoped>\n",
       "    .dataframe tbody tr th:only-of-type {\n",
       "        vertical-align: middle;\n",
       "    }\n",
       "\n",
       "    .dataframe tbody tr th {\n",
       "        vertical-align: top;\n",
       "    }\n",
       "\n",
       "    .dataframe thead th {\n",
       "        text-align: right;\n",
       "    }\n",
       "</style>\n",
       "<table border=\"1\" class=\"dataframe\">\n",
       "  <thead>\n",
       "    <tr style=\"text-align: right;\">\n",
       "      <th></th>\n",
       "      <th>overall_sentiment_score_20d_lag</th>\n",
       "      <th>overall_attention_score_20d_lag</th>\n",
       "      <th>BEIR</th>\n",
       "      <th>interest_rate_1yr_lag</th>\n",
       "      <th>commodities_1yr_lag</th>\n",
       "      <th>UNRATENSA_1yr_lag</th>\n",
       "      <th>UMCSENT_2wk_lag</th>\n",
       "      <th>WM2NS_1yr_lag</th>\n",
       "      <th>gdp_1yr_lag</th>\n",
       "    </tr>\n",
       "    <tr>\n",
       "      <th>date</th>\n",
       "      <th></th>\n",
       "      <th></th>\n",
       "      <th></th>\n",
       "      <th></th>\n",
       "      <th></th>\n",
       "      <th></th>\n",
       "      <th></th>\n",
       "      <th></th>\n",
       "      <th></th>\n",
       "    </tr>\n",
       "  </thead>\n",
       "  <tbody>\n",
       "    <tr>\n",
       "      <th>01/06/2021</th>\n",
       "      <td>26.4459</td>\n",
       "      <td>3.900597</td>\n",
       "      <td>2.460</td>\n",
       "      <td>0.05</td>\n",
       "      <td>99.875276</td>\n",
       "      <td>11.2</td>\n",
       "      <td>82.9</td>\n",
       "      <td>17915.4</td>\n",
       "      <td>19477.444</td>\n",
       "    </tr>\n",
       "    <tr>\n",
       "      <th>02/06/2021</th>\n",
       "      <td>51.3641</td>\n",
       "      <td>2.348224</td>\n",
       "      <td>2.440</td>\n",
       "      <td>0.06</td>\n",
       "      <td>99.875276</td>\n",
       "      <td>11.2</td>\n",
       "      <td>82.9</td>\n",
       "      <td>17915.4</td>\n",
       "      <td>19477.444</td>\n",
       "    </tr>\n",
       "    <tr>\n",
       "      <th>03/06/2021</th>\n",
       "      <td>48.4431</td>\n",
       "      <td>1.156789</td>\n",
       "      <td>2.420</td>\n",
       "      <td>0.06</td>\n",
       "      <td>99.875276</td>\n",
       "      <td>11.2</td>\n",
       "      <td>82.9</td>\n",
       "      <td>17915.4</td>\n",
       "      <td>19477.444</td>\n",
       "    </tr>\n",
       "    <tr>\n",
       "      <th>04/06/2021</th>\n",
       "      <td>17.4456</td>\n",
       "      <td>0.903695</td>\n",
       "      <td>2.400</td>\n",
       "      <td>0.06</td>\n",
       "      <td>99.875276</td>\n",
       "      <td>11.2</td>\n",
       "      <td>82.9</td>\n",
       "      <td>17915.4</td>\n",
       "      <td>19477.444</td>\n",
       "    </tr>\n",
       "    <tr>\n",
       "      <th>05/06/2021</th>\n",
       "      <td>28.1433</td>\n",
       "      <td>0.947890</td>\n",
       "      <td>2.400</td>\n",
       "      <td>0.07</td>\n",
       "      <td>99.875276</td>\n",
       "      <td>11.2</td>\n",
       "      <td>82.9</td>\n",
       "      <td>17915.4</td>\n",
       "      <td>19477.444</td>\n",
       "    </tr>\n",
       "    <tr>\n",
       "      <th>...</th>\n",
       "      <td>...</td>\n",
       "      <td>...</td>\n",
       "      <td>...</td>\n",
       "      <td>...</td>\n",
       "      <td>...</td>\n",
       "      <td>...</td>\n",
       "      <td>...</td>\n",
       "      <td>...</td>\n",
       "      <td>...</td>\n",
       "    </tr>\n",
       "    <tr>\n",
       "      <th>27/05/2022</th>\n",
       "      <td>-56.0960</td>\n",
       "      <td>2.735565</td>\n",
       "      <td>2.630</td>\n",
       "      <td>0.06</td>\n",
       "      <td>155.100579</td>\n",
       "      <td>5.5</td>\n",
       "      <td>58.4</td>\n",
       "      <td>20235.1</td>\n",
       "      <td>22740.959</td>\n",
       "    </tr>\n",
       "    <tr>\n",
       "      <th>28/05/2022</th>\n",
       "      <td>-4.0143</td>\n",
       "      <td>1.563207</td>\n",
       "      <td>2.630</td>\n",
       "      <td>0.05</td>\n",
       "      <td>155.100579</td>\n",
       "      <td>5.5</td>\n",
       "      <td>58.4</td>\n",
       "      <td>20235.1</td>\n",
       "      <td>22740.959</td>\n",
       "    </tr>\n",
       "    <tr>\n",
       "      <th>29/05/2022</th>\n",
       "      <td>1.4806</td>\n",
       "      <td>3.380288</td>\n",
       "      <td>2.630</td>\n",
       "      <td>0.05</td>\n",
       "      <td>155.100579</td>\n",
       "      <td>5.5</td>\n",
       "      <td>58.4</td>\n",
       "      <td>20235.1</td>\n",
       "      <td>22740.959</td>\n",
       "    </tr>\n",
       "    <tr>\n",
       "      <th>30/05/2022</th>\n",
       "      <td>-12.9794</td>\n",
       "      <td>5.896455</td>\n",
       "      <td>2.614</td>\n",
       "      <td>0.05</td>\n",
       "      <td>155.100579</td>\n",
       "      <td>5.5</td>\n",
       "      <td>58.4</td>\n",
       "      <td>20235.1</td>\n",
       "      <td>22740.959</td>\n",
       "    </tr>\n",
       "    <tr>\n",
       "      <th>31/05/2022</th>\n",
       "      <td>-43.6909</td>\n",
       "      <td>9.194081</td>\n",
       "      <td>2.640</td>\n",
       "      <td>0.05</td>\n",
       "      <td>155.100579</td>\n",
       "      <td>5.5</td>\n",
       "      <td>58.4</td>\n",
       "      <td>20283.9</td>\n",
       "      <td>22740.959</td>\n",
       "    </tr>\n",
       "  </tbody>\n",
       "</table>\n",
       "<p>365 rows × 9 columns</p>\n",
       "</div>"
      ],
      "text/plain": [
       "            overall_sentiment_score_20d_lag  overall_attention_score_20d_lag  \\\n",
       "date                                                                           \n",
       "01/06/2021                          26.4459                         3.900597   \n",
       "02/06/2021                          51.3641                         2.348224   \n",
       "03/06/2021                          48.4431                         1.156789   \n",
       "04/06/2021                          17.4456                         0.903695   \n",
       "05/06/2021                          28.1433                         0.947890   \n",
       "...                                     ...                              ...   \n",
       "27/05/2022                         -56.0960                         2.735565   \n",
       "28/05/2022                          -4.0143                         1.563207   \n",
       "29/05/2022                           1.4806                         3.380288   \n",
       "30/05/2022                         -12.9794                         5.896455   \n",
       "31/05/2022                         -43.6909                         9.194081   \n",
       "\n",
       "             BEIR  interest_rate_1yr_lag  commodities_1yr_lag  \\\n",
       "date                                                            \n",
       "01/06/2021  2.460                   0.05            99.875276   \n",
       "02/06/2021  2.440                   0.06            99.875276   \n",
       "03/06/2021  2.420                   0.06            99.875276   \n",
       "04/06/2021  2.400                   0.06            99.875276   \n",
       "05/06/2021  2.400                   0.07            99.875276   \n",
       "...           ...                    ...                  ...   \n",
       "27/05/2022  2.630                   0.06           155.100579   \n",
       "28/05/2022  2.630                   0.05           155.100579   \n",
       "29/05/2022  2.630                   0.05           155.100579   \n",
       "30/05/2022  2.614                   0.05           155.100579   \n",
       "31/05/2022  2.640                   0.05           155.100579   \n",
       "\n",
       "            UNRATENSA_1yr_lag  UMCSENT_2wk_lag  WM2NS_1yr_lag  gdp_1yr_lag  \n",
       "date                                                                        \n",
       "01/06/2021               11.2             82.9        17915.4    19477.444  \n",
       "02/06/2021               11.2             82.9        17915.4    19477.444  \n",
       "03/06/2021               11.2             82.9        17915.4    19477.444  \n",
       "04/06/2021               11.2             82.9        17915.4    19477.444  \n",
       "05/06/2021               11.2             82.9        17915.4    19477.444  \n",
       "...                       ...              ...            ...          ...  \n",
       "27/05/2022                5.5             58.4        20235.1    22740.959  \n",
       "28/05/2022                5.5             58.4        20235.1    22740.959  \n",
       "29/05/2022                5.5             58.4        20235.1    22740.959  \n",
       "30/05/2022                5.5             58.4        20235.1    22740.959  \n",
       "31/05/2022                5.5             58.4        20283.9    22740.959  \n",
       "\n",
       "[365 rows x 9 columns]"
      ]
     },
     "execution_count": 9,
     "metadata": {},
     "output_type": "execute_result"
    }
   ],
   "source": [
    "train_df = pd.read_csv('/Users/aashrit/Documents/Masters/MY498/Data/Time Series/twitter_reddit_time_series_copy2.csv')\n",
    "train_df = train_df.set_index('date')\n",
    "#train = train.iloc[20:,:]\n",
    "train_df"
   ]
  },
  {
   "cell_type": "code",
   "execution_count": 10,
   "id": "f73b5350",
   "metadata": {},
   "outputs": [],
   "source": [
    "nobs = 31\n",
    "df_train, df_test = train_df[0:-nobs], train_df[-nobs:]"
   ]
  },
  {
   "cell_type": "code",
   "execution_count": 11,
   "id": "b048dabf",
   "metadata": {},
   "outputs": [],
   "source": [
    "X_train = df_train.drop(['BEIR'],axis=1)\n",
    "y_train = df_train['BEIR']\n",
    "X_test = df_test.drop(['BEIR'],axis=1)\n",
    "y_test = df_test['BEIR']"
   ]
  },
  {
   "cell_type": "code",
   "execution_count": 12,
   "id": "e620267c",
   "metadata": {},
   "outputs": [],
   "source": [
    "def train_test_plot(model, X_train, X_test):\n",
    "    \"\"\"\n",
    "    This will plot the actual values of CPI against the one fitted by the model\n",
    "    We train the model until 2009 and then use it from 2009 onwards on the test features dataset\n",
    "    \"\"\"\n",
    "    fig, ax = plt.subplots(figsize=(12,4))\n",
    "    colors = sns.color_palette(\"deep\", 8)\n",
    "    \n",
    "    yvalues = pd.DataFrame(y_test)\n",
    "    \n",
    "    forecasted = list(model.predict(X_test)) # Use the model fit on features data from 2009 onwards\n",
    "    df_fcast = pd.DataFrame({\"date\": list(yvalues.index), \"BEIR_fcast\": forecasted})\n",
    "    df_fcast = df_fcast.set_index(\"date\")\n",
    "    \n",
    "    df = pd.merge(yvalues, df_fcast, left_index=True, right_index=True)\n",
    "\n",
    "    df[\"BEIR_fcast\"].plot(ax=ax, legend=True, linewidth=2.5, linestyle=\"dashed\", color=\"forestgreen\") # CPI fitted\n",
    "    df[\"BEIR\"].plot(ax=ax, legend=True, linewidth=1.5, linestyle=\"solid\", color=\"salmon\") # Actual CPI values\n",
    "    \n",
    "    ax.set_title(\"BEIR vs. Model's BEIR\")\n",
    "    ax.set_ylabel(\"BEIR\")\n",
    "    ax.legend([\"Forecasted BEIR\",\"Actual BEIR\"])"
   ]
  },
  {
   "cell_type": "code",
   "execution_count": 44,
   "id": "18eab39c",
   "metadata": {},
   "outputs": [
    {
     "data": {
      "image/png": "[encoded data removed]",
      "text/plain": [
       "<Figure size 864x288 with 1 Axes>"
      ]
     },
     "metadata": {},
     "output_type": "display_data"
    }
   ],
   "source": [
    "lasso = linear_model.LassoCV(cv=model_selection.TimeSeriesSplit(n_splits=5), \n",
    "                             alphas=None, tol = 10000, normalize=True) \n",
    "\n",
    "lasso = lasso.fit(X_train, y_train)\n",
    "optimal_alpha = lasso.alpha_\n",
    "\n",
    "lasso2 = linear_model.Lasso(alpha=optimal_alpha, normalize=True)\n",
    "lasso2.fit(X_train, y_train)\n",
    "\n",
    "train_test_plot(lasso2, X_train, X_test) "
   ]
  },
  {
   "cell_type": "code",
   "execution_count": 14,
   "id": "7e71c229",
   "metadata": {},
   "outputs": [
    {
     "data": {
      "text/plain": [
       "0.17849193668778615"
      ]
     },
     "execution_count": 14,
     "metadata": {},
     "output_type": "execute_result"
    }
   ],
   "source": [
    "metrics.mean_squared_error(y_test, lasso2.predict(X_test), squared = False)"
   ]
  },
  {
   "cell_type": "code",
   "execution_count": 16,
   "id": "c6487640",
   "metadata": {},
   "outputs": [
    {
     "data": {
      "text/plain": [
       "Index(['01/05/2022', '02/05/2022', '03/05/2022', '04/05/2022', '05/05/2022',\n",
       "       '06/05/2022', '07/05/2022', '08/05/2022', '09/05/2022', '10/05/2022',\n",
       "       '11/05/2022', '12/05/2022', '13/05/2022', '14/05/2022', '15/05/2022',\n",
       "       '16/05/2022', '17/05/2022', '18/05/2022', '19/05/2022', '20/05/2022',\n",
       "       '21/05/2022', '22/05/2022', '23/05/2022', '24/05/2022', '25/05/2022',\n",
       "       '26/05/2022', '27/05/2022', '28/05/2022', '29/05/2022', '30/05/2022',\n",
       "       '31/05/2022'],\n",
       "      dtype='object', name='date')"
      ]
     },
     "execution_count": 16,
     "metadata": {},
     "output_type": "execute_result"
    }
   ],
   "source": [
    "df_test.index"
   ]
  },
  {
   "cell_type": "code",
   "execution_count": 64,
   "id": "c9d280cf",
   "metadata": {},
   "outputs": [
    {
     "data": {
      "image/png": "[encoded data removed]",
      "text/plain": [
       "<Figure size 864x432 with 1 Axes>"
      ]
     },
     "metadata": {},
     "output_type": "display_data"
    }
   ],
   "source": [
    "plt.figure(figsize=(12,6))\n",
    "plt.plot(df_test.index, lasso2.predict(X_test), label = \"Forecast\")\n",
    "# plotting the line 2 points \n",
    "plt.plot(df_test.index, y_test, label = \"Actual\")\n",
    "plt.xlabel('Date')\n",
    "# Set the y axis label of the current axis.\n",
    "plt.ylabel('BEIR')\n",
    "# Set a title of the current axes.\n",
    "plt.title('LASSO Forecast Inflation vs Acutal Inflation')\n",
    "plt.tick_params(\n",
    "    axis='x',          # changes apply to the x-axis\n",
    "    which='both',      # both major and minor ticks are affected\n",
    "    bottom=False,      # ticks along the bottom edge are off\n",
    "    top=False,         # ticks along the top edge are off\n",
    "    labelbottom=False) # labels along the bottom edge are off\n",
    "plt.ylim(2.5,3)\n",
    "# show a legend on the plot\n",
    "plt.legend()\n",
    "plt.savefig('lasso_forecast.png')\n",
    "# Display a figure.\n",
    "plt.show()"
   ]
  },
  {
   "cell_type": "code",
   "execution_count": 18,
   "id": "b90a83e3",
   "metadata": {},
   "outputs": [
    {
     "data": {
      "text/html": [
       "<div>\n",
       "<style scoped>\n",
       "    .dataframe tbody tr th:only-of-type {\n",
       "        vertical-align: middle;\n",
       "    }\n",
       "\n",
       "    .dataframe tbody tr th {\n",
       "        vertical-align: top;\n",
       "    }\n",
       "\n",
       "    .dataframe thead th {\n",
       "        text-align: right;\n",
       "    }\n",
       "</style>\n",
       "<table border=\"1\" class=\"dataframe\">\n",
       "  <thead>\n",
       "    <tr style=\"text-align: right;\">\n",
       "      <th></th>\n",
       "      <th>features</th>\n",
       "      <th>coef</th>\n",
       "    </tr>\n",
       "  </thead>\n",
       "  <tbody>\n",
       "    <tr>\n",
       "      <th>1</th>\n",
       "      <td>overall_attention_score_20d_lag</td>\n",
       "      <td>0.003786</td>\n",
       "    </tr>\n",
       "    <tr>\n",
       "      <th>6</th>\n",
       "      <td>WM2NS_1yr_lag</td>\n",
       "      <td>0.000151</td>\n",
       "    </tr>\n",
       "    <tr>\n",
       "      <th>0</th>\n",
       "      <td>overall_sentiment_score_20d_lag</td>\n",
       "      <td>-0.000063</td>\n",
       "    </tr>\n",
       "    <tr>\n",
       "      <th>4</th>\n",
       "      <td>UNRATENSA_1yr_lag</td>\n",
       "      <td>-0.011034</td>\n",
       "    </tr>\n",
       "    <tr>\n",
       "      <th>2</th>\n",
       "      <td>interest_rate_1yr_lag</td>\n",
       "      <td>-3.440864</td>\n",
       "    </tr>\n",
       "  </tbody>\n",
       "</table>\n",
       "</div>"
      ],
      "text/plain": [
       "                          features      coef\n",
       "1  overall_attention_score_20d_lag  0.003786\n",
       "6                    WM2NS_1yr_lag  0.000151\n",
       "0  overall_sentiment_score_20d_lag -0.000063\n",
       "4                UNRATENSA_1yr_lag -0.011034\n",
       "2            interest_rate_1yr_lag -3.440864"
      ]
     },
     "execution_count": 18,
     "metadata": {},
     "output_type": "execute_result"
    }
   ],
   "source": [
    "lasso_coefs = pd.DataFrame({\"features\":list(X_train), \"coef\": lasso2.coef_})\n",
    "lasso_coefs = lasso_coefs[lasso_coefs.coef != 0.0]\n",
    "lasso_coefs.sort_values(\"coef\", ascending=False)"
   ]
  },
  {
   "cell_type": "code",
   "execution_count": 45,
   "id": "e299d0f1",
   "metadata": {},
   "outputs": [
    {
     "name": "stdout",
     "output_type": "stream",
     "text": [
      "0.17849193668778615\n",
      "6.633478837271167\n"
     ]
    }
   ],
   "source": [
    "rmse = metrics.mean_squared_error(y_test, lasso2.predict(X_test), squared = False)\n",
    "error = (rmse/np.mean(y_test))*100\n",
    "print(rmse)\n",
    "print(error)\n",
    "#We see that the RMSE is quite low compared to the mean (6.6% of the size of the mean overall), \n",
    "#which means that XGBoost did quite a good job at predicting the values of the test set. "
   ]
  },
  {
   "cell_type": "code",
   "execution_count": 24,
   "id": "37d13563",
   "metadata": {},
   "outputs": [
    {
     "data": {
      "text/plain": [
       "0.000932138252534409"
      ]
     },
     "execution_count": 24,
     "metadata": {},
     "output_type": "execute_result"
    }
   ],
   "source": [
    "optimal_alpha"
   ]
  },
  {
   "cell_type": "code",
   "execution_count": 48,
   "id": "a1c40457",
   "metadata": {},
   "outputs": [
    {
     "data": {
      "text/plain": [
       "100"
      ]
     },
     "execution_count": 48,
     "metadata": {},
     "output_type": "execute_result"
    }
   ],
   "source": [
    "len(lasso.alphas_)\n",
    "#Grid from 8.69315254e-06 to 8.69315254e-03\n",
    "#0.00000869315254 to 0.00869315254"
   ]
  },
  {
   "cell_type": "code",
   "execution_count": 41,
   "id": "17b9d08e",
   "metadata": {},
   "outputs": [
    {
     "data": {
      "text/plain": [
       "0.000932138252534409"
      ]
     },
     "execution_count": 41,
     "metadata": {},
     "output_type": "execute_result"
    }
   ],
   "source": [
    "lasso.alpha_"
   ]
  },
  {
   "cell_type": "code",
   "execution_count": 54,
   "id": "fa7acbe8",
   "metadata": {},
   "outputs": [
    {
     "data": {
      "text/plain": [
       "[0.05748843463183412,\n",
       " 0.05748843463183412,\n",
       " 0.05748843463183412,\n",
       " 0.05748843463183412,\n",
       " 0.05748843463183412,\n",
       " 0.057413452547542466,\n",
       " 0.056812900431901736,\n",
       " 0.05638770733609132,\n",
       " 0.05603116279168165,\n",
       " 0.05580652889298852,\n",
       " 0.055441582482139116,\n",
       " 0.0544471070530199,\n",
       " 0.05360083349550258,\n",
       " 0.05288398166584107,\n",
       " 0.05229074259625921,\n",
       " 0.051794199737107374,\n",
       " 0.051380023774035465,\n",
       " 0.05103609594540085,\n",
       " 0.05081843774017105,\n",
       " 0.05068352105486915,\n",
       " 0.05055182579217511,\n",
       " 0.0504679700330515,\n",
       " 0.050418547436823793,\n",
       " 0.050397913700044386,\n",
       " 0.05035427261494142,\n",
       " 0.05025854419703668,\n",
       " 0.0501739136611186,\n",
       " 0.05024391465748401,\n",
       " 0.05032790096805846,\n",
       " 0.05033681514382153,\n",
       " 0.05008977987180291,\n",
       " 0.049901523901983866,\n",
       " 0.04976895504058744,\n",
       " 0.04978340609812924,\n",
       " 0.04985160977781519,\n",
       " 0.04995034686909401,\n",
       " 0.050077701409534714,\n",
       " 0.05021665140675798,\n",
       " 0.050379360818818775,\n",
       " 0.05055444663063111,\n",
       " 0.050739748523276965,\n",
       " 0.050940632688620854,\n",
       " 0.05115522353546999,\n",
       " 0.05145128220202683,\n",
       " 0.05179058896999418,\n",
       " 0.052154166598329686,\n",
       " 0.05254504653384636,\n",
       " 0.05296698829751041,\n",
       " 0.0534149109899484,\n",
       " 0.05391018527239304,\n",
       " 0.054464961155911054,\n",
       " 0.05506988271245781,\n",
       " 0.05570986199114334,\n",
       " 0.0563715516691077,\n",
       " 0.05711415493891967,\n",
       " 0.057794832172550215,\n",
       " 0.05833607000962497,\n",
       " 0.058774084831197324,\n",
       " 0.059214275108615856,\n",
       " 0.0596502849625109,\n",
       " 0.06007051652413102,\n",
       " 0.06045974578259471,\n",
       " 0.060819066077221526,\n",
       " 0.061149957556647073,\n",
       " 0.06144122952688693,\n",
       " 0.061677843826818325,\n",
       " 0.06187134309688912,\n",
       " 0.06202721855400728,\n",
       " 0.062149336497685094,\n",
       " 0.062240541888431644,\n",
       " 0.06229733795754646,\n",
       " 0.062306626554346434,\n",
       " 0.06229749445062045,\n",
       " 0.06226162626836664,\n",
       " 0.06219929563514093,\n",
       " 0.062112875364353747,\n",
       " 0.06200515559970239,\n",
       " 0.06187891500947447,\n",
       " 0.06173659947254082,\n",
       " 0.061580857904028764,\n",
       " 0.06141529125147388,\n",
       " 0.061242698741440726,\n",
       " 0.06106533777651478,\n",
       " 0.060885051621650345,\n",
       " 0.0607033585454456,\n",
       " 0.06052152272519599,\n",
       " 0.06034060782069918,\n",
       " 0.06016151606891047,\n",
       " 0.05998501626365811,\n",
       " 0.05981176369573531,\n",
       " 0.05964231460428278,\n",
       " 0.05947713708297335,\n",
       " 0.059316619810278505,\n",
       " 0.05916107949697005,\n",
       " 0.05901028924016931,\n",
       " 0.058862180222564474,\n",
       " 0.05871979602306584,\n",
       " 0.058583485895915235,\n",
       " 0.05845332194020699,\n",
       " 0.05832929493711483]"
      ]
     },
     "execution_count": 54,
     "metadata": {},
     "output_type": "execute_result"
    }
   ],
   "source": [
    "alpha_cvs = [np.mean(i) for i in lasso.mse_path_]\n",
    "alpha_cvs"
   ]
  },
  {
   "cell_type": "code",
   "execution_count": 59,
   "id": "fd24cfd8",
   "metadata": {},
   "outputs": [
    {
     "name": "stderr",
     "output_type": "stream",
     "text": [
      "No artists with labels found to put in legend.  Note that artists whose label start with an underscore are ignored when legend() is called with no argument.\n"
     ]
    },
    {
     "data": {
      "image/png": "[encoded data removed]",
      "text/plain": [
       "<Figure size 864x432 with 1 Axes>"
      ]
     },
     "metadata": {},
     "output_type": "display_data"
    }
   ],
   "source": [
    "#Plot of cross validation errors\n",
    "plt.figure(figsize=(12,6))\n",
    "plt.plot(lasso.alphas_,alpha_cvs)\n",
    "# plotting the line 2 points \n",
    "plt.xlabel('Lambda')\n",
    "# Set the y axis label of the current axis.\n",
    "plt.ylabel('CV Error')\n",
    "# Set a title of the current axes.\n",
    "plt.title('Lambda Grid Search')\n",
    "# show a legend on the plot\n",
    "plt.legend()\n",
    "plt.savefig('lambda_search.png')\n",
    "# Display a figure.\n",
    "plt.show()"
   ]
  },
  {
   "cell_type": "code",
   "execution_count": null,
   "id": "dcb8bc32",
   "metadata": {},
   "outputs": [],
   "source": []
  }
 ],
 "metadata": {
  "kernelspec": {
   "display_name": "Python 3 (ipykernel)",
   "language": "python",
   "name": "python3"
  },
  "language_info": {
   "codemirror_mode": {
    "name": "ipython",
    "version": 3
   },
   "file_extension": ".py",
   "mimetype": "text/x-python",
   "name": "python",
   "nbconvert_exporter": "python",
   "pygments_lexer": "ipython3",
   "version": "3.7.3"
  }
 },
 "nbformat": 4,
 "nbformat_minor": 5
}
