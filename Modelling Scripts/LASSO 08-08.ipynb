{
 "cells": [
  {
   "cell_type": "code",
   "execution_count": 1,
   "id": "3a47e70e",
   "metadata": {},
   "outputs": [],
   "source": [
    "#https://notes.quantecon.org/submission/5cc8e7dd4174bb001a39a8ff\n",
    "import statsmodels as sm\n",
    "#https://www.statsmodels.org/dev/vector_ar.html\n",
    "import pandas as pd\n",
    "import numpy as np\n",
    "import matplotlib.pyplot as plt\n",
    "%matplotlib inline\n",
    "\n",
    "# Import Statsmodels\n",
    "from statsmodels.tsa.api import VAR\n",
    "from statsmodels.tsa.stattools import adfuller\n",
    "from statsmodels.tools.eval_measures import rmse, aic\n",
    "import numpy as np\n",
    "import matplotlib.pyplot as plt\n",
    "%matplotlib inline \n",
    "import seaborn as sns\n",
    "sns.set()\n",
    "import datetime as dt\n",
    "import warnings\n",
    "warnings.simplefilter('ignore')\n",
    "from sklearn import (linear_model, metrics, neural_network, pipeline, preprocessing, model_selection)"
   ]
  },
  {
   "cell_type": "code",
   "execution_count": 2,
   "id": "bdcfed34",
   "metadata": {},
   "outputs": [
    {
     "data": {
      "text/html": [
       "<div>\n",
       "<style scoped>\n",
       "    .dataframe tbody tr th:only-of-type {\n",
       "        vertical-align: middle;\n",
       "    }\n",
       "\n",
       "    .dataframe tbody tr th {\n",
       "        vertical-align: top;\n",
       "    }\n",
       "\n",
       "    .dataframe thead th {\n",
       "        text-align: right;\n",
       "    }\n",
       "</style>\n",
       "<table border=\"1\" class=\"dataframe\">\n",
       "  <thead>\n",
       "    <tr style=\"text-align: right;\">\n",
       "      <th></th>\n",
       "      <th>overall_sentiment_score_20d_lag</th>\n",
       "      <th>overall_attention_score_20d_lag</th>\n",
       "      <th>BEIR</th>\n",
       "      <th>interest_rate_1yr_lag</th>\n",
       "      <th>commodities_1yr_lag</th>\n",
       "      <th>UNRATENSA_1yr_lag</th>\n",
       "      <th>UMCSENT_2wk_lag</th>\n",
       "      <th>WM2NS_1yr_lag</th>\n",
       "      <th>gdp_1yr_lag</th>\n",
       "      <th>USDEUR_1yr_lag</th>\n",
       "    </tr>\n",
       "    <tr>\n",
       "      <th>date</th>\n",
       "      <th></th>\n",
       "      <th></th>\n",
       "      <th></th>\n",
       "      <th></th>\n",
       "      <th></th>\n",
       "      <th></th>\n",
       "      <th></th>\n",
       "      <th></th>\n",
       "      <th></th>\n",
       "      <th></th>\n",
       "    </tr>\n",
       "  </thead>\n",
       "  <tbody>\n",
       "    <tr>\n",
       "      <th>01/06/2021</th>\n",
       "      <td>26.4459</td>\n",
       "      <td>3.900597</td>\n",
       "      <td>2.460</td>\n",
       "      <td>0.05</td>\n",
       "      <td>99.875276</td>\n",
       "      <td>11.2</td>\n",
       "      <td>82.9</td>\n",
       "      <td>17915.4</td>\n",
       "      <td>19477.444</td>\n",
       "      <td>1.224100</td>\n",
       "    </tr>\n",
       "    <tr>\n",
       "      <th>02/06/2021</th>\n",
       "      <td>51.3641</td>\n",
       "      <td>2.348224</td>\n",
       "      <td>2.440</td>\n",
       "      <td>0.06</td>\n",
       "      <td>99.875276</td>\n",
       "      <td>11.2</td>\n",
       "      <td>82.9</td>\n",
       "      <td>17915.4</td>\n",
       "      <td>19477.444</td>\n",
       "      <td>1.221300</td>\n",
       "    </tr>\n",
       "    <tr>\n",
       "      <th>03/06/2021</th>\n",
       "      <td>48.4431</td>\n",
       "      <td>1.156789</td>\n",
       "      <td>2.420</td>\n",
       "      <td>0.06</td>\n",
       "      <td>99.875276</td>\n",
       "      <td>11.2</td>\n",
       "      <td>82.9</td>\n",
       "      <td>17915.4</td>\n",
       "      <td>19477.444</td>\n",
       "      <td>1.212200</td>\n",
       "    </tr>\n",
       "    <tr>\n",
       "      <th>04/06/2021</th>\n",
       "      <td>17.4456</td>\n",
       "      <td>0.903695</td>\n",
       "      <td>2.400</td>\n",
       "      <td>0.06</td>\n",
       "      <td>99.875276</td>\n",
       "      <td>11.2</td>\n",
       "      <td>82.9</td>\n",
       "      <td>17915.4</td>\n",
       "      <td>19477.444</td>\n",
       "      <td>1.217300</td>\n",
       "    </tr>\n",
       "    <tr>\n",
       "      <th>05/06/2021</th>\n",
       "      <td>28.1433</td>\n",
       "      <td>0.947890</td>\n",
       "      <td>2.400</td>\n",
       "      <td>0.07</td>\n",
       "      <td>99.875276</td>\n",
       "      <td>11.2</td>\n",
       "      <td>82.9</td>\n",
       "      <td>17915.4</td>\n",
       "      <td>19477.444</td>\n",
       "      <td>1.216933</td>\n",
       "    </tr>\n",
       "    <tr>\n",
       "      <th>...</th>\n",
       "      <td>...</td>\n",
       "      <td>...</td>\n",
       "      <td>...</td>\n",
       "      <td>...</td>\n",
       "      <td>...</td>\n",
       "      <td>...</td>\n",
       "      <td>...</td>\n",
       "      <td>...</td>\n",
       "      <td>...</td>\n",
       "      <td>...</td>\n",
       "    </tr>\n",
       "    <tr>\n",
       "      <th>27/05/2022</th>\n",
       "      <td>-56.0960</td>\n",
       "      <td>2.735565</td>\n",
       "      <td>2.630</td>\n",
       "      <td>0.06</td>\n",
       "      <td>155.100579</td>\n",
       "      <td>5.5</td>\n",
       "      <td>58.4</td>\n",
       "      <td>20235.1</td>\n",
       "      <td>22740.959</td>\n",
       "      <td>1.070900</td>\n",
       "    </tr>\n",
       "    <tr>\n",
       "      <th>28/05/2022</th>\n",
       "      <td>-4.0143</td>\n",
       "      <td>1.563207</td>\n",
       "      <td>2.630</td>\n",
       "      <td>0.05</td>\n",
       "      <td>155.100579</td>\n",
       "      <td>5.5</td>\n",
       "      <td>58.4</td>\n",
       "      <td>20235.1</td>\n",
       "      <td>22740.959</td>\n",
       "      <td>1.069733</td>\n",
       "    </tr>\n",
       "    <tr>\n",
       "      <th>29/05/2022</th>\n",
       "      <td>1.4806</td>\n",
       "      <td>3.380288</td>\n",
       "      <td>2.630</td>\n",
       "      <td>0.05</td>\n",
       "      <td>155.100579</td>\n",
       "      <td>5.5</td>\n",
       "      <td>58.4</td>\n",
       "      <td>20235.1</td>\n",
       "      <td>22740.959</td>\n",
       "      <td>1.071044</td>\n",
       "    </tr>\n",
       "    <tr>\n",
       "      <th>30/05/2022</th>\n",
       "      <td>-12.9794</td>\n",
       "      <td>5.896455</td>\n",
       "      <td>2.614</td>\n",
       "      <td>0.05</td>\n",
       "      <td>155.100579</td>\n",
       "      <td>5.5</td>\n",
       "      <td>58.4</td>\n",
       "      <td>20235.1</td>\n",
       "      <td>22740.959</td>\n",
       "      <td>1.070559</td>\n",
       "    </tr>\n",
       "    <tr>\n",
       "      <th>31/05/2022</th>\n",
       "      <td>-43.6909</td>\n",
       "      <td>9.194081</td>\n",
       "      <td>2.640</td>\n",
       "      <td>0.05</td>\n",
       "      <td>155.100579</td>\n",
       "      <td>5.5</td>\n",
       "      <td>58.4</td>\n",
       "      <td>20283.9</td>\n",
       "      <td>22740.959</td>\n",
       "      <td>1.073100</td>\n",
       "    </tr>\n",
       "  </tbody>\n",
       "</table>\n",
       "<p>365 rows × 10 columns</p>\n",
       "</div>"
      ],
      "text/plain": [
       "            overall_sentiment_score_20d_lag  overall_attention_score_20d_lag  \\\n",
       "date                                                                           \n",
       "01/06/2021                          26.4459                         3.900597   \n",
       "02/06/2021                          51.3641                         2.348224   \n",
       "03/06/2021                          48.4431                         1.156789   \n",
       "04/06/2021                          17.4456                         0.903695   \n",
       "05/06/2021                          28.1433                         0.947890   \n",
       "...                                     ...                              ...   \n",
       "27/05/2022                         -56.0960                         2.735565   \n",
       "28/05/2022                          -4.0143                         1.563207   \n",
       "29/05/2022                           1.4806                         3.380288   \n",
       "30/05/2022                         -12.9794                         5.896455   \n",
       "31/05/2022                         -43.6909                         9.194081   \n",
       "\n",
       "             BEIR  interest_rate_1yr_lag  commodities_1yr_lag  \\\n",
       "date                                                            \n",
       "01/06/2021  2.460                   0.05            99.875276   \n",
       "02/06/2021  2.440                   0.06            99.875276   \n",
       "03/06/2021  2.420                   0.06            99.875276   \n",
       "04/06/2021  2.400                   0.06            99.875276   \n",
       "05/06/2021  2.400                   0.07            99.875276   \n",
       "...           ...                    ...                  ...   \n",
       "27/05/2022  2.630                   0.06           155.100579   \n",
       "28/05/2022  2.630                   0.05           155.100579   \n",
       "29/05/2022  2.630                   0.05           155.100579   \n",
       "30/05/2022  2.614                   0.05           155.100579   \n",
       "31/05/2022  2.640                   0.05           155.100579   \n",
       "\n",
       "            UNRATENSA_1yr_lag  UMCSENT_2wk_lag  WM2NS_1yr_lag  gdp_1yr_lag  \\\n",
       "date                                                                         \n",
       "01/06/2021               11.2             82.9        17915.4    19477.444   \n",
       "02/06/2021               11.2             82.9        17915.4    19477.444   \n",
       "03/06/2021               11.2             82.9        17915.4    19477.444   \n",
       "04/06/2021               11.2             82.9        17915.4    19477.444   \n",
       "05/06/2021               11.2             82.9        17915.4    19477.444   \n",
       "...                       ...              ...            ...          ...   \n",
       "27/05/2022                5.5             58.4        20235.1    22740.959   \n",
       "28/05/2022                5.5             58.4        20235.1    22740.959   \n",
       "29/05/2022                5.5             58.4        20235.1    22740.959   \n",
       "30/05/2022                5.5             58.4        20235.1    22740.959   \n",
       "31/05/2022                5.5             58.4        20283.9    22740.959   \n",
       "\n",
       "            USDEUR_1yr_lag  \n",
       "date                        \n",
       "01/06/2021        1.224100  \n",
       "02/06/2021        1.221300  \n",
       "03/06/2021        1.212200  \n",
       "04/06/2021        1.217300  \n",
       "05/06/2021        1.216933  \n",
       "...                    ...  \n",
       "27/05/2022        1.070900  \n",
       "28/05/2022        1.069733  \n",
       "29/05/2022        1.071044  \n",
       "30/05/2022        1.070559  \n",
       "31/05/2022        1.073100  \n",
       "\n",
       "[365 rows x 10 columns]"
      ]
     },
     "execution_count": 2,
     "metadata": {},
     "output_type": "execute_result"
    }
   ],
   "source": [
    "train_df = pd.read_csv('/Users/aashrit/Documents/Masters/MY498/Data/Time Series/twitter_reddit_time_series_copy3.csv')\n",
    "train_df = train_df.set_index('date')\n",
    "#train = train.iloc[20:,:]\n",
    "train_df"
   ]
  },
  {
   "cell_type": "code",
   "execution_count": 3,
   "id": "f73b5350",
   "metadata": {},
   "outputs": [],
   "source": [
    "nobs = 31\n",
    "df_train, df_test = train_df[0:-nobs], train_df[-nobs:]"
   ]
  },
  {
   "cell_type": "code",
   "execution_count": 4,
   "id": "b048dabf",
   "metadata": {},
   "outputs": [],
   "source": [
    "X_train = df_train.drop(['BEIR'],axis=1)\n",
    "y_train = df_train['BEIR']\n",
    "X_test = df_test.drop(['BEIR'],axis=1)\n",
    "y_test = df_test['BEIR']"
   ]
  },
  {
   "cell_type": "code",
   "execution_count": 5,
   "id": "e620267c",
   "metadata": {},
   "outputs": [],
   "source": [
    "def train_test_plot(model, X_train, X_test, name):\n",
    "    \"\"\"\n",
    "    This will plot the actual values of CPI against the one fitted by the model\n",
    "    We train the model until 2009 and then use it from 2009 onwards on the test features dataset\n",
    "    \"\"\"\n",
    "    fig, ax = plt.subplots(figsize=(12,6))\n",
    "    colors = sns.color_palette(\"deep\", 8)\n",
    "    plt.ylim(2.5,3)\n",
    "    \n",
    "    yvalues = pd.DataFrame(y_test)\n",
    "    \n",
    "    forecasted = list(model.predict(X_test)) # Use the model fit on features data from 2009 onwards\n",
    "    df_fcast = pd.DataFrame({\"date\": list(yvalues.index), \"BEIR_fcast\": forecasted})\n",
    "    df_fcast = df_fcast.set_index(\"date\")\n",
    "    \n",
    "    df = pd.merge(yvalues, df_fcast, left_index=True, right_index=True)\n",
    "\n",
    "    df[\"BEIR_fcast\"].plot(ax=ax, legend=True, linewidth=2.5, linestyle=\"dashed\", color=\"forestgreen\") # CPI fitted\n",
    "    df[\"BEIR\"].plot(ax=ax, legend=True, linewidth=1.5, linestyle=\"solid\", color=\"salmon\") # Actual CPI values\n",
    "    \n",
    "    ax.set_title(\"Forecasted BEIR vs. Actual BEIR\")\n",
    "    ax.set_ylabel(\"BEIR\")\n",
    "\n",
    "    ax.set_xlabel(\"Date\")\n",
    "    ax.legend([\"Forecasted BEIR\",\"Actual BEIR\"])\n",
    "    plt.savefig(name)"
   ]
  },
  {
   "cell_type": "code",
   "execution_count": 6,
   "id": "18eab39c",
   "metadata": {},
   "outputs": [
    {
     "data": {
      "image/png": "[encoded data removed]",
      "text/plain": [
       "<Figure size 864x432 with 1 Axes>"
      ]
     },
     "metadata": {},
     "output_type": "display_data"
    }
   ],
   "source": [
    "lasso = linear_model.LassoCV(cv=model_selection.TimeSeriesSplit(n_splits=5), \n",
    "                             alphas=None, tol = 10000, normalize=True) \n",
    "\n",
    "lasso = lasso.fit(X_train, y_train)\n",
    "optimal_alpha = lasso.alpha_\n",
    "\n",
    "lasso2 = linear_model.Lasso(alpha=optimal_alpha, normalize=True)\n",
    "lasso2.fit(X_train, y_train)\n",
    "\n",
    "train_test_plot(lasso2, X_train, X_test, 'lasso_forecast') "
   ]
  },
  {
   "cell_type": "code",
   "execution_count": 7,
   "id": "7e71c229",
   "metadata": {},
   "outputs": [
    {
     "data": {
      "text/plain": [
       "0.23123981531520515"
      ]
     },
     "execution_count": 7,
     "metadata": {},
     "output_type": "execute_result"
    }
   ],
   "source": [
    "metrics.mean_squared_error(y_test, lasso2.predict(X_test), squared = False)"
   ]
  },
  {
   "cell_type": "code",
   "execution_count": 8,
   "id": "c6487640",
   "metadata": {},
   "outputs": [
    {
     "data": {
      "text/plain": [
       "Index(['01/05/2022', '02/05/2022', '03/05/2022', '04/05/2022', '05/05/2022',\n",
       "       '06/05/2022', '07/05/2022', '08/05/2022', '09/05/2022', '10/05/2022',\n",
       "       '11/05/2022', '12/05/2022', '13/05/2022', '14/05/2022', '15/05/2022',\n",
       "       '16/05/2022', '17/05/2022', '18/05/2022', '19/05/2022', '20/05/2022',\n",
       "       '21/05/2022', '22/05/2022', '23/05/2022', '24/05/2022', '25/05/2022',\n",
       "       '26/05/2022', '27/05/2022', '28/05/2022', '29/05/2022', '30/05/2022',\n",
       "       '31/05/2022'],\n",
       "      dtype='object', name='date')"
      ]
     },
     "execution_count": 8,
     "metadata": {},
     "output_type": "execute_result"
    }
   ],
   "source": [
    "df_test.index"
   ]
  },
  {
   "cell_type": "code",
   "execution_count": 9,
   "id": "c9d280cf",
   "metadata": {},
   "outputs": [
    {
     "data": {
      "image/png": "[encoded data removed]",
      "text/plain": [
       "<Figure size 864x432 with 1 Axes>"
      ]
     },
     "metadata": {},
     "output_type": "display_data"
    }
   ],
   "source": [
    "plt.figure(figsize=(12,6))\n",
    "plt.plot(df_test.index, lasso2.predict(X_test), label = \"Forecast\")\n",
    "# plotting the line 2 points \n",
    "plt.plot(df_test.index, y_test, label = \"Actual\")\n",
    "plt.xlabel('Date')\n",
    "# Set the y axis label of the current axis.\n",
    "plt.ylabel('BEIR')\n",
    "# Set a title of the current axes.\n",
    "plt.title('LASSO Forecast Inflation vs Acutal Inflation')\n",
    "plt.tick_params(\n",
    "    axis='x',          # changes apply to the x-axis\n",
    "    which='both',      # both major and minor ticks are affected\n",
    "    bottom=False,      # ticks along the bottom edge are off\n",
    "    top=False,         # ticks along the top edge are off\n",
    "    labelbottom=False) # labels along the bottom edge are off\n",
    "plt.ylim(2.5,3)\n",
    "# show a legend on the plot\n",
    "plt.legend()\n",
    "plt.savefig('lasso_forecast.png')\n",
    "# Display a figure.\n",
    "plt.show()"
   ]
  },
  {
   "cell_type": "code",
   "execution_count": 10,
   "id": "b90a83e3",
   "metadata": {},
   "outputs": [],
   "source": [
    "lasso_coefs = pd.DataFrame({\"features\":list(X_train), \"coef\": lasso2.coef_})\n",
    "lasso_coefs = lasso_coefs[lasso_coefs.coef != 0.0]"
   ]
  },
  {
   "cell_type": "code",
   "execution_count": 11,
   "id": "b4973f22",
   "metadata": {},
   "outputs": [
    {
     "data": {
      "text/html": [
       "<div>\n",
       "<style scoped>\n",
       "    .dataframe tbody tr th:only-of-type {\n",
       "        vertical-align: middle;\n",
       "    }\n",
       "\n",
       "    .dataframe tbody tr th {\n",
       "        vertical-align: top;\n",
       "    }\n",
       "\n",
       "    .dataframe thead th {\n",
       "        text-align: right;\n",
       "    }\n",
       "</style>\n",
       "<table border=\"1\" class=\"dataframe\">\n",
       "  <thead>\n",
       "    <tr style=\"text-align: right;\">\n",
       "      <th></th>\n",
       "      <th>features</th>\n",
       "      <th>coef</th>\n",
       "    </tr>\n",
       "  </thead>\n",
       "  <tbody>\n",
       "    <tr>\n",
       "      <th>1</th>\n",
       "      <td>overall_attention_score_20d_lag</td>\n",
       "      <td>0.001064</td>\n",
       "    </tr>\n",
       "    <tr>\n",
       "      <th>6</th>\n",
       "      <td>WM2NS_1yr_lag</td>\n",
       "      <td>0.000033</td>\n",
       "    </tr>\n",
       "    <tr>\n",
       "      <th>0</th>\n",
       "      <td>overall_sentiment_score_20d_lag</td>\n",
       "      <td>-0.000242</td>\n",
       "    </tr>\n",
       "    <tr>\n",
       "      <th>4</th>\n",
       "      <td>UNRATENSA_1yr_lag</td>\n",
       "      <td>-0.000358</td>\n",
       "    </tr>\n",
       "    <tr>\n",
       "      <th>8</th>\n",
       "      <td>USDEUR_1yr_lag</td>\n",
       "      <td>-2.768270</td>\n",
       "    </tr>\n",
       "    <tr>\n",
       "      <th>2</th>\n",
       "      <td>interest_rate_1yr_lag</td>\n",
       "      <td>-3.357524</td>\n",
       "    </tr>\n",
       "  </tbody>\n",
       "</table>\n",
       "</div>"
      ],
      "text/plain": [
       "                          features      coef\n",
       "1  overall_attention_score_20d_lag  0.001064\n",
       "6                    WM2NS_1yr_lag  0.000033\n",
       "0  overall_sentiment_score_20d_lag -0.000242\n",
       "4                UNRATENSA_1yr_lag -0.000358\n",
       "8                   USDEUR_1yr_lag -2.768270\n",
       "2            interest_rate_1yr_lag -3.357524"
      ]
     },
     "execution_count": 11,
     "metadata": {},
     "output_type": "execute_result"
    }
   ],
   "source": [
    "lasso_coefs.sort_values(\"coef\", ascending=False)"
   ]
  },
  {
   "cell_type": "code",
   "execution_count": 12,
   "id": "e299d0f1",
   "metadata": {},
   "outputs": [
    {
     "name": "stdout",
     "output_type": "stream",
     "text": [
      "0.23123981531520515\n",
      "8.593802329071092\n"
     ]
    }
   ],
   "source": [
    "rmse = metrics.mean_squared_error(y_test, lasso2.predict(X_test), squared = False)\n",
    "error = (rmse/np.mean(y_test))*100\n",
    "print(rmse)\n",
    "print(error)\n",
    "#We see that the RMSE is quite low compared to the mean (6.6% of the size of the mean overall), \n",
    "#which means that XGBoost did quite a good job at predicting the values of the test set. "
   ]
  },
  {
   "cell_type": "code",
   "execution_count": 13,
   "id": "fe0b5e5f",
   "metadata": {},
   "outputs": [
    {
     "name": "stdout",
     "output_type": "stream",
     "text": [
      "2.947615963593436\n",
      "2.8377519854604443\n"
     ]
    }
   ],
   "source": [
    "print(max(lasso2.predict(X_test)))\n",
    "print(min(lasso2.predict(X_test)))"
   ]
  },
  {
   "cell_type": "markdown",
   "id": "4058e37a",
   "metadata": {},
   "source": [
    "### Checking Alpha CV"
   ]
  },
  {
   "cell_type": "code",
   "execution_count": 14,
   "id": "37d13563",
   "metadata": {},
   "outputs": [
    {
     "data": {
      "text/plain": [
       "0.0010081119864565641"
      ]
     },
     "execution_count": 14,
     "metadata": {},
     "output_type": "execute_result"
    }
   ],
   "source": [
    "optimal_alpha"
   ]
  },
  {
   "cell_type": "code",
   "execution_count": 15,
   "id": "a1c40457",
   "metadata": {},
   "outputs": [
    {
     "data": {
      "text/plain": [
       "100"
      ]
     },
     "execution_count": 15,
     "metadata": {},
     "output_type": "execute_result"
    }
   ],
   "source": [
    "len(lasso.alphas_)\n",
    "#Grid from 8.69315254e-06 to 8.69315254e-03\n",
    "#0.00000869315254 to 0.00869315254"
   ]
  },
  {
   "cell_type": "code",
   "execution_count": 16,
   "id": "17b9d08e",
   "metadata": {},
   "outputs": [
    {
     "data": {
      "text/plain": [
       "array([8.76804395e-03, 8.17710713e-03, 7.62599748e-03, 7.11203077e-03,\n",
       "       6.63270370e-03, 6.18568167e-03, 5.76878743e-03, 5.37999046e-03,\n",
       "       5.01739711e-03, 4.67924134e-03, 4.36387613e-03, 4.06976549e-03,\n",
       "       3.79547692e-03, 3.53967447e-03, 3.30111226e-03, 3.07862834e-03,\n",
       "       2.87113910e-03, 2.67763393e-03, 2.49717037e-03, 2.32886944e-03,\n",
       "       2.17191144e-03, 2.02553187e-03, 1.88901780e-03, 1.76170433e-03,\n",
       "       1.64297135e-03, 1.53224058e-03, 1.42897269e-03, 1.33266472e-03,\n",
       "       1.24284758e-03, 1.15908381e-03, 1.08096544e-03, 1.00811199e-03,\n",
       "       9.40168613e-04, 8.76804395e-04, 8.17710713e-04, 7.62599748e-04,\n",
       "       7.11203077e-04, 6.63270370e-04, 6.18568167e-04, 5.76878743e-04,\n",
       "       5.37999046e-04, 5.01739711e-04, 4.67924134e-04, 4.36387613e-04,\n",
       "       4.06976549e-04, 3.79547692e-04, 3.53967447e-04, 3.30111226e-04,\n",
       "       3.07862834e-04, 2.87113910e-04, 2.67763393e-04, 2.49717037e-04,\n",
       "       2.32886944e-04, 2.17191144e-04, 2.02553187e-04, 1.88901780e-04,\n",
       "       1.76170433e-04, 1.64297135e-04, 1.53224058e-04, 1.42897269e-04,\n",
       "       1.33266472e-04, 1.24284758e-04, 1.15908381e-04, 1.08096544e-04,\n",
       "       1.00811199e-04, 9.40168613e-05, 8.76804395e-05, 8.17710713e-05,\n",
       "       7.62599748e-05, 7.11203077e-05, 6.63270370e-05, 6.18568167e-05,\n",
       "       5.76878743e-05, 5.37999046e-05, 5.01739711e-05, 4.67924134e-05,\n",
       "       4.36387613e-05, 4.06976549e-05, 3.79547692e-05, 3.53967447e-05,\n",
       "       3.30111226e-05, 3.07862834e-05, 2.87113910e-05, 2.67763393e-05,\n",
       "       2.49717037e-05, 2.32886944e-05, 2.17191144e-05, 2.02553187e-05,\n",
       "       1.88901780e-05, 1.76170433e-05, 1.64297135e-05, 1.53224058e-05,\n",
       "       1.42897269e-05, 1.33266472e-05, 1.24284758e-05, 1.15908381e-05,\n",
       "       1.08096544e-05, 1.00811199e-05, 9.40168613e-06, 8.76804395e-06])"
      ]
     },
     "execution_count": 16,
     "metadata": {},
     "output_type": "execute_result"
    }
   ],
   "source": [
    "lasso.alphas_"
   ]
  },
  {
   "cell_type": "code",
   "execution_count": 17,
   "id": "fa7acbe8",
   "metadata": {},
   "outputs": [
    {
     "data": {
      "text/plain": [
       "[0.05748843463183412,\n",
       " 0.05748843463183412,\n",
       " 0.05748843463183412,\n",
       " 0.05748843463183412,\n",
       " 0.05748843463183412,\n",
       " 0.05748843463183412,\n",
       " 0.05687174877599398,\n",
       " 0.05642949331769691,\n",
       " 0.05606691017837727,\n",
       " 0.055828256768486725,\n",
       " 0.05557606084626143,\n",
       " 0.054561957493772385,\n",
       " 0.05369865663641871,\n",
       " 0.05296559131236809,\n",
       " 0.05235911303003125,\n",
       " 0.051851331088875206,\n",
       " 0.05142757974872998,\n",
       " 0.05107548648192613,\n",
       " 0.05083719318062445,\n",
       " 0.050703773110426564,\n",
       " 0.050565057082019194,\n",
       " 0.05047592999505064,\n",
       " 0.05042258625470904,\n",
       " 0.0503987922104404,\n",
       " 0.050348238906088236,\n",
       " 0.050204756911476855,\n",
       " 0.050065450932845076,\n",
       " 0.05006702530765643,\n",
       " 0.05009701734554265,\n",
       " 0.050137868834737254,\n",
       " 0.049937629558448514,\n",
       " 0.04987901623884391,\n",
       " 0.04988773139190182,\n",
       " 0.049944399216538815,\n",
       " 0.050038690386594156,\n",
       " 0.0501625652955414,\n",
       " 0.05028455841855258,\n",
       " 0.05042189331670662,\n",
       " 0.05062431085653457,\n",
       " 0.05083621218343629,\n",
       " 0.0510549292904931,\n",
       " 0.051311349361451944,\n",
       " 0.051551289369377085,\n",
       " 0.05186120508852739,\n",
       " 0.05224023765300547,\n",
       " 0.05256620588492648,\n",
       " 0.05286278573612454,\n",
       " 0.05318519440769722,\n",
       " 0.05356800254320142,\n",
       " 0.05398103796663155,\n",
       " 0.05441152785380915,\n",
       " 0.054855953908093905,\n",
       " 0.055310880164455865,\n",
       " 0.05577184300397655,\n",
       " 0.056226185277948,\n",
       " 0.05664215566963919,\n",
       " 0.05701827664320713,\n",
       " 0.05735898791853744,\n",
       " 0.05768598771812768,\n",
       " 0.058012238799351204,\n",
       " 0.05834045406670298,\n",
       " 0.05866939397515506,\n",
       " 0.05898806649159978,\n",
       " 0.05929892269441774,\n",
       " 0.05960140223406759,\n",
       " 0.05989356024415885,\n",
       " 0.06017296102103179,\n",
       " 0.06043717049023676,\n",
       " 0.06068088225319603,\n",
       " 0.06089854182278195,\n",
       " 0.06109055481266283,\n",
       " 0.06125798038338955,\n",
       " 0.06140390472746212,\n",
       " 0.06152878441918821,\n",
       " 0.06162987166880972,\n",
       " 0.06170625712478635,\n",
       " 0.06175818082166693,\n",
       " 0.06178649262660788,\n",
       " 0.06179244155820407,\n",
       " 0.0617775383352273,\n",
       " 0.06174345445877464,\n",
       " 0.06169194542756613,\n",
       " 0.061624792460181876,\n",
       " 0.06154375901500836,\n",
       " 0.06145055912472401,\n",
       " 0.06134683503871802,\n",
       " 0.061234142093890775,\n",
       " 0.061111962853169756,\n",
       " 0.060978905122041425,\n",
       " 0.0608410940568894,\n",
       " 0.06070036460800926,\n",
       " 0.060557859772757405,\n",
       " 0.060414452378065864,\n",
       " 0.0602708642006892,\n",
       " 0.0601315495834434,\n",
       " 0.05999484964192081,\n",
       " 0.05985952877986438,\n",
       " 0.05972562470304592,\n",
       " 0.05959345207961353,\n",
       " 0.05946337266173696]"
      ]
     },
     "execution_count": 17,
     "metadata": {},
     "output_type": "execute_result"
    }
   ],
   "source": [
    "alpha_cvs = [np.mean(i) for i in lasso.mse_path_]\n",
    "alpha_cvs"
   ]
  },
  {
   "cell_type": "code",
   "execution_count": 18,
   "id": "fd24cfd8",
   "metadata": {},
   "outputs": [
    {
     "name": "stderr",
     "output_type": "stream",
     "text": [
      "No artists with labels found to put in legend.  Note that artists whose label start with an underscore are ignored when legend() is called with no argument.\n"
     ]
    },
    {
     "data": {
      "image/png": "[encoded data removed]",
      "text/plain": [
       "<Figure size 864x432 with 1 Axes>"
      ]
     },
     "metadata": {},
     "output_type": "display_data"
    }
   ],
   "source": [
    "#Plot of cross validation errors\n",
    "plt.figure(figsize=(12,6))\n",
    "plt.plot(lasso.alphas_,alpha_cvs)\n",
    "# plotting the line 2 points \n",
    "plt.xlabel('Lambda')\n",
    "# Set the y axis label of the current axis.\n",
    "plt.ylabel('CV Error')\n",
    "# Set a title of the current axes.\n",
    "plt.title('Lambda Grid Search')\n",
    "# show a legend on the plot\n",
    "plt.legend()\n",
    "plt.savefig('lambda_search.png')\n",
    "# Display a figure.\n",
    "plt.show()"
   ]
  },
  {
   "cell_type": "code",
   "execution_count": 19,
   "id": "dcb8bc32",
   "metadata": {},
   "outputs": [],
   "source": [
    "#https://www.kirenz.com/post/2019-08-12-python-lasso-regression-auto/#lasso-regression"
   ]
  },
  {
   "cell_type": "code",
   "execution_count": 20,
   "id": "7d203eec",
   "metadata": {},
   "outputs": [
    {
     "name": "stdout",
     "output_type": "stream",
     "text": [
      "R squared training set 67.98\n",
      "R squared test set -345.41\n"
     ]
    }
   ],
   "source": [
    "print('R squared training set', round(lasso2.score(X_train, y_train)*100, 2))\n",
    "print('R squared test set', round(lasso2.score(X_test, y_test)*100, 2))"
   ]
  },
  {
   "cell_type": "code",
   "execution_count": 21,
   "id": "2d640fa2",
   "metadata": {},
   "outputs": [
    {
     "name": "stdout",
     "output_type": "stream",
     "text": [
      "MSE training set 0.01\n",
      "MSE test set 0.05\n"
     ]
    }
   ],
   "source": [
    "from sklearn.metrics import mean_squared_error\n",
    "\n",
    "# Training data\n",
    "pred_train = lasso2.predict(X_train)\n",
    "mse_train = mean_squared_error(y_train, pred_train)\n",
    "print('MSE training set', round(mse_train, 2))\n",
    "\n",
    "# Test data\n",
    "pred = lasso2.predict(X_test)\n",
    "mse_test =mean_squared_error(y_test, pred)\n",
    "print('MSE test set', round(mse_test, 2))"
   ]
  },
  {
   "cell_type": "code",
   "execution_count": 22,
   "id": "4baafadb",
   "metadata": {},
   "outputs": [
    {
     "data": {
      "image/png": "[encoded data removed]",
      "text/plain": [
       "<Figure size 432x288 with 1 Axes>"
      ]
     },
     "metadata": {},
     "output_type": "display_data"
    }
   ],
   "source": [
    "import numpy as np\n",
    "import matplotlib.pyplot as plt\n",
    "\n",
    "alphas = np.linspace(0.01,500,100)\n",
    "lasso = linear_model.Lasso(max_iter=10000)\n",
    "coefs = []\n",
    "\n",
    "for a in alphas:\n",
    "    lasso.set_params(alpha=a)\n",
    "    lasso.fit(X_train, y_train)\n",
    "    coefs.append(lasso.coef_)\n",
    "\n",
    "ax = plt.gca()\n",
    "\n",
    "ax.plot(alphas, coefs)\n",
    "ax.set_xscale('log')\n",
    "plt.axis('tight')\n",
    "plt.xlabel('alpha')\n",
    "plt.ylabel('Standardized Coefficients')\n",
    "plt.title('Lasso coefficients as a function of alpha');"
   ]
  },
  {
   "cell_type": "code",
   "execution_count": 23,
   "id": "86320690",
   "metadata": {},
   "outputs": [
    {
     "name": "stdout",
     "output_type": "stream",
     "text": [
      "[(-0.00024173973391033638, 'overall_sentiment_score_20d_lag'), (0.0010643995032415853, 'overall_attention_score_20d_lag'), (-3.3575241305814907, 'BEIR'), (0.0, 'interest_rate_1yr_lag'), (-0.00035777283080796357, 'commodities_1yr_lag'), (-0.0, 'UNRATENSA_1yr_lag'), (3.3080634653402865e-05, 'UMCSENT_2wk_lag'), (0.0, 'WM2NS_1yr_lag'), (-2.768269661160361, 'gdp_1yr_lag')]\n"
     ]
    }
   ],
   "source": [
    "print(list(zip(lasso2.coef_, train_df)))"
   ]
  },
  {
   "cell_type": "code",
   "execution_count": 24,
   "id": "58224e76",
   "metadata": {},
   "outputs": [
    {
     "name": "stdout",
     "output_type": "stream",
     "text": [
      "R squared training set 67.98\n",
      "R squared test set -345.41\n"
     ]
    }
   ],
   "source": [
    "print('R squared training set', round(lasso2.score(X_train, y_train)*100, 2))\n",
    "print('R squared test set', round(lasso2.score(X_test, y_test)*100, 2))"
   ]
  },
  {
   "cell_type": "code",
   "execution_count": 25,
   "id": "01d63067",
   "metadata": {},
   "outputs": [
    {
     "data": {
      "text/plain": [
       "0.05347185218701019"
      ]
     },
     "execution_count": 25,
     "metadata": {},
     "output_type": "execute_result"
    }
   ],
   "source": [
    "mean_squared_error(y_test, lasso2.predict(X_test))"
   ]
  },
  {
   "cell_type": "code",
   "execution_count": 26,
   "id": "19d6de72",
   "metadata": {},
   "outputs": [
    {
     "ename": "AttributeError",
     "evalue": "'Lasso' object has no attribute 'alphas_'",
     "output_type": "error",
     "traceback": [
      "\u001b[0;31m---------------------------------------------------------------------------\u001b[0m",
      "\u001b[0;31mAttributeError\u001b[0m                            Traceback (most recent call last)",
      "\u001b[0;32m/var/folders/k7/zzqyrvtx6sj4513ks6wgw6bc0000gn/T/ipykernel_7192/3918510567.py\u001b[0m in \u001b[0;36m<module>\u001b[0;34m\u001b[0m\n\u001b[1;32m      1\u001b[0m \u001b[0mplt\u001b[0m\u001b[0;34m.\u001b[0m\u001b[0mfigure\u001b[0m\u001b[0;34m(\u001b[0m\u001b[0mfigsize\u001b[0m \u001b[0;34m=\u001b[0m \u001b[0;34m(\u001b[0m\u001b[0;36m12\u001b[0m\u001b[0;34m,\u001b[0m\u001b[0;36m6\u001b[0m\u001b[0;34m)\u001b[0m\u001b[0;34m)\u001b[0m\u001b[0;34m\u001b[0m\u001b[0;34m\u001b[0m\u001b[0m\n\u001b[0;32m----> 2\u001b[0;31m \u001b[0mplt\u001b[0m\u001b[0;34m.\u001b[0m\u001b[0msemilogx\u001b[0m\u001b[0;34m(\u001b[0m\u001b[0mlasso\u001b[0m\u001b[0;34m.\u001b[0m\u001b[0malphas_\u001b[0m\u001b[0;34m,\u001b[0m \u001b[0mlasso\u001b[0m\u001b[0;34m.\u001b[0m\u001b[0mmse_path_\u001b[0m\u001b[0;34m,\u001b[0m \u001b[0;34m\":\"\u001b[0m\u001b[0;34m)\u001b[0m\u001b[0;34m\u001b[0m\u001b[0;34m\u001b[0m\u001b[0m\n\u001b[0m\u001b[1;32m      3\u001b[0m plt.plot(\n\u001b[1;32m      4\u001b[0m     \u001b[0mlasso\u001b[0m\u001b[0;34m.\u001b[0m\u001b[0malphas_\u001b[0m \u001b[0;34m,\u001b[0m\u001b[0;34m\u001b[0m\u001b[0;34m\u001b[0m\u001b[0m\n\u001b[1;32m      5\u001b[0m     \u001b[0mlasso\u001b[0m\u001b[0;34m.\u001b[0m\u001b[0mmse_path_\u001b[0m\u001b[0;34m.\u001b[0m\u001b[0mmean\u001b[0m\u001b[0;34m(\u001b[0m\u001b[0maxis\u001b[0m\u001b[0;34m=\u001b[0m\u001b[0;34m-\u001b[0m\u001b[0;36m1\u001b[0m\u001b[0;34m)\u001b[0m\u001b[0;34m,\u001b[0m\u001b[0;34m\u001b[0m\u001b[0;34m\u001b[0m\u001b[0m\n",
      "\u001b[0;31mAttributeError\u001b[0m: 'Lasso' object has no attribute 'alphas_'"
     ]
    },
    {
     "data": {
      "text/plain": [
       "<Figure size 864x432 with 0 Axes>"
      ]
     },
     "metadata": {},
     "output_type": "display_data"
    }
   ],
   "source": [
    "plt.figure(figsize = (12,6))\n",
    "plt.semilogx(lasso.alphas_, lasso.mse_path_, \":\")\n",
    "plt.plot(\n",
    "    lasso.alphas_ ,\n",
    "    lasso.mse_path_.mean(axis=-1),\n",
    "    \"k\",\n",
    "    label=\"Average across folds\",\n",
    "    linewidth=2,\n",
    ")\n",
    "plt.axvline(\n",
    "    lasso.alpha_, linestyle=\"--\", color=\"k\", label=\"Lambda: CV estimate\"\n",
    ")\n",
    "\n",
    "plt.legend()\n",
    "plt.xlabel(\"Lambdas\")\n",
    "plt.ylabel(\"Mean Squared Error\")\n",
    "plt.title(\"Mean Square Error on Each Fold\")\n",
    "plt.axis(\"tight\")\n",
    "plt.savefig(\"lasso_alpha.png\")\n"
   ]
  },
  {
   "cell_type": "code",
   "execution_count": 27,
   "id": "caaa884b",
   "metadata": {},
   "outputs": [],
   "source": [
    "X_train1 = df_train.drop(['BEIR','overall_sentiment_score_20d_lag','overall_attention_score_20d_lag'],axis=1)\n",
    "y_train = df_train['BEIR']\n",
    "X_test1 = df_test.drop(['BEIR','overall_sentiment_score_20d_lag','overall_attention_score_20d_lag'],axis=1)\n",
    "y_test = df_test['BEIR']"
   ]
  },
  {
   "cell_type": "code",
   "execution_count": 28,
   "id": "b1b9af2f",
   "metadata": {},
   "outputs": [
    {
     "name": "stdout",
     "output_type": "stream",
     "text": [
      "0.22757760382170736\n",
      "8.457699808752642\n"
     ]
    }
   ],
   "source": [
    "lasso2 = linear_model.Lasso(alpha=optimal_alpha, normalize=True)\n",
    "lasso2.fit(X_train1, y_train)\n",
    "y_pred2 = lasso2.predict(X_test1)\n",
    "rmse = metrics.mean_squared_error(y_test, y_pred2, squared = False)\n",
    "error = (rmse/np.mean(y_test))*100\n",
    "print(rmse)\n",
    "print(error)\n",
    "#We see that the RMSE is quite low compared to the mean (6.6% of the size of the mean overall), \n",
    "#which means that XGBoost did quite a good job at predicting the values of the test set. "
   ]
  },
  {
   "cell_type": "code",
   "execution_count": 31,
   "id": "86feceab",
   "metadata": {},
   "outputs": [
    {
     "data": {
      "text/plain": [
       "array([2.93236306, 2.93765   , 2.90997507, 2.90131276, 2.90461176,\n",
       "       2.89131546, 2.89916028, 2.89546827, 2.88628767, 2.89938226,\n",
       "       2.898618  , 2.94761596, 2.93362137, 2.92486185, 2.93025579,\n",
       "       2.92496958, 2.90682385, 2.9112063 , 2.88551352, 2.89184506,\n",
       "       2.90060836, 2.89203686, 2.86746445, 2.83775199, 2.86406337,\n",
       "       2.84286506, 2.86439495, 2.88736178, 2.88433804, 2.89185491,\n",
       "       2.89736997])"
      ]
     },
     "execution_count": 31,
     "metadata": {},
     "output_type": "execute_result"
    }
   ],
   "source": [
    "lasso2.fit(X_train, y_train)\n",
    "y_pred1 = lasso2.predict(X_test)\n",
    "y_pred1"
   ]
  },
  {
   "cell_type": "code",
   "execution_count": 32,
   "id": "305a57ce",
   "metadata": {},
   "outputs": [],
   "source": [
    "y_test = pd.DataFrame(y_test)\n",
    "y_pred1 = pd.DataFrame(y_pred1)\n",
    "y_pred2 = pd.DataFrame(y_pred2)\n",
    "y_test.columns = ['BEIR']\n",
    "y_pred1.columns = ['BEIR_forecast']\n",
    "y_pred2.columns = ['BEIR_forecast']"
   ]
  },
  {
   "cell_type": "code",
   "execution_count": 34,
   "id": "3284f953",
   "metadata": {},
   "outputs": [
    {
     "data": {
      "image/png": "[encoded data removed]",
      "text/plain": [
       "<Figure size 864x432 with 1 Axes>"
      ]
     },
     "metadata": {},
     "output_type": "display_data"
    }
   ],
   "source": [
    "fig, ax = plt.subplots(figsize=(12,6))\n",
    "colors = sns.color_palette(\"deep\", 8)\n",
    "plt.ylim(2.5,3)\n",
    "    \n",
    "yvalues = pd.DataFrame(y_test)\n",
    "    \n",
    "y_pred1['BEIR_forecast'].plot(ax=ax, legend=True, linewidth=2.5, linestyle=\"dashed\", color=\"forestgreen\") # CPI fitted\n",
    "y_pred2['BEIR_forecast'].plot(ax=ax, legend=True, linewidth=2.5, linestyle=\"dashed\", color=\"blue\") # CPI fitted\n",
    "y_test['BEIR'].plot(ax=ax, legend=True, linewidth=1.5, linestyle=\"solid\", color=\"salmon\") # Actual CPI values\n",
    "    \n",
    "ax.set_title(\"Forecasted BEIR vs. Actual BEIR\")\n",
    "ax.set_ylabel(\"BEIR\")\n",
    "ax.set_xlabel(\"Date\")\n",
    "ax.legend([\"Forecasted BEIR - Including OSS & OAS\",\"Forecasted BEIR - Excluding OSS & OAS\",'Actual BEIR'])\n",
    "plt.savefig('lasso_forecast_14-08.png')"
   ]
  },
  {
   "cell_type": "code",
   "execution_count": 38,
   "id": "4d402c87",
   "metadata": {},
   "outputs": [],
   "source": [
    "y_pred1\n",
    "y_pred1.to_csv('lasso.csv')"
   ]
  },
  {
   "cell_type": "code",
   "execution_count": null,
   "id": "122218f2",
   "metadata": {},
   "outputs": [],
   "source": []
  }
 ],
 "metadata": {
  "kernelspec": {
   "display_name": "Python 3 (ipykernel)",
   "language": "python",
   "name": "python3"
  },
  "language_info": {
   "codemirror_mode": {
    "name": "ipython",
    "version": 3
   },
   "file_extension": ".py",
   "mimetype": "text/x-python",
   "name": "python",
   "nbconvert_exporter": "python",
   "pygments_lexer": "ipython3",
   "version": "3.7.3"
  }
 },
 "nbformat": 4,
 "nbformat_minor": 5
}
